{
 "cells": [
  {
   "cell_type": "markdown",
   "metadata": {},
   "source": [
    "# Preparation \n",
    "## Append to path and import\n",
    "In case gumpy is not installed as package, you may have to specify the path to the gumpy directory"
   ]
  },
  {
   "cell_type": "code",
   "execution_count": 23,
   "metadata": {
    "collapsed": true
   },
   "outputs": [],
   "source": [
    "%matplotlib inline\n",
    "import matplotlib.pyplot as plt \n",
    "\n",
    "import sys, os, os.path\n",
    "sys.path.append('../..')"
   ]
  },
  {
   "cell_type": "markdown",
   "metadata": {},
   "source": [
    "## import gumpy\n",
    "This may take a while, as gumpy as several dependencies that will be loaded automatically"
   ]
  },
  {
   "cell_type": "code",
   "execution_count": 24,
   "metadata": {
    "collapsed": true
   },
   "outputs": [],
   "source": [
    "import numpy as np\n",
    "import gumpy"
   ]
  },
  {
   "cell_type": "markdown",
   "metadata": {},
   "source": [
    "# Import data\n",
    "To import data, you have to specify the directory in which your data is stored in. For the example given here, the data is in the subfolder ``../EEG-Data/Graz_data/data``. \n",
    "Then, one of the classes that subclass from ``dataset`` can be used to load the data. In the example, we will use the GrazB dataset, for which ``gumpy`` already includes a corresponding class. If you have different data, simply subclass from ``gumpy.dataset.Dataset``."
   ]
  },
  {
   "cell_type": "code",
   "execution_count": 25,
   "metadata": {},
   "outputs": [
    {
     "data": {
      "text/plain": [
       "<gumpy.data.nst_emg.NST_EMG at 0x7f25030b5898>"
      ]
     },
     "execution_count": 25,
     "metadata": {},
     "output_type": "execute_result"
    }
   ],
   "source": [
    "# First specify the location of the data and some \n",
    "# identifier that is exposed by the dataset (e.g. subject)\n",
    "base_dir = '../..'\n",
    "subject = 'S1'\n",
    "\n",
    "# The next line first initializes the data structure. \n",
    "# Note that this does not yet load the data! In custom implementations\n",
    "# of a dataset, this should be used to prepare file transfers, \n",
    "# for instance check if all files are available, etc.\n",
    "data_low = gumpy.data.NST_EMG(base_dir, subject, 'low')\n",
    "data_high = gumpy.data.NST_EMG(base_dir, subject, 'high') \n",
    "\n",
    "# Finally, load the dataset\n",
    "data_low.load()\n",
    "data_high.load()"
   ]
  },
  {
   "cell_type": "markdown",
   "metadata": {},
   "source": [
    "The abstract class allows to print some information about the contained data. This is a commodity function that allows quick inspection of the data as long as all necessary fields are provided in the subclassed variant."
   ]
  },
  {
   "cell_type": "code",
   "execution_count": 26,
   "metadata": {},
   "outputs": [
    {
     "name": "stdout",
     "output_type": "stream",
     "text": [
      "Data identification: NST_EMG-S3\n",
      "EMG-data shape: (217603, 8)\n",
      "Trials data shape:  (36,)\n",
      "Labels shape:  (48,)\n",
      "Total length of single trial:  10\n",
      "Sampling frequency of EMG data: 512\n",
      "Interval for motor imagery in trial:  [5, 10]\n",
      "Classes possible:  [ 0.  1.  2.  3.]\n",
      "----------\n",
      "Data identification: NST_EMG-S3\n",
      "EMG-data shape: (217610, 8)\n",
      "Trials data shape:  (36,)\n",
      "Labels shape:  (48,)\n",
      "Total length of single trial:  10\n",
      "Sampling frequency of EMG data: 512\n",
      "Interval for motor imagery in trial:  [5, 10]\n",
      "Classes possible:  [ 0.  1.  2.  3.]\n"
     ]
    }
   ],
   "source": [
    "data_low.print_stats()\n",
    "print('----------')\n",
    "data_high.print_stats()"
   ]
  },
  {
   "cell_type": "markdown",
   "metadata": {},
   "source": [
    "# Signal Filtering"
   ]
  },
  {
   "cell_type": "code",
   "execution_count": 27,
   "metadata": {
    "collapsed": true
   },
   "outputs": [],
   "source": [
    "#bandpass\n",
    "lowcut=20\n",
    "highcut=255\n",
    "#notch\n",
    "f0=50\n",
    "Q=50\n",
    "\n",
    "flt_low = gumpy.signal.butter_bandpass(data_low, lowcut, highcut)\n",
    "flt_low = gumpy.signal.notch(flt_low, cutoff=f0, Q=Q)\n",
    "\n",
    "trialsLow = gumpy.utils.getTrials(data_low, flt_low)\n",
    "trialsLowBg = gumpy.utils.getTrials(data_low, flt_low, True)\n",
    "\n",
    "flt_high = gumpy.signal.butter_bandpass(data_high, lowcut, highcut)\n",
    "flt_high = gumpy.signal.notch(flt_high, cutoff=f0, Q=Q)\n",
    "\n",
    "trialsHigh = gumpy.utils.getTrials(data_high, flt_high)\n",
    "trialsHighBg = gumpy.utils.getTrials(data_high, flt_high, True)\n"
   ]
  },
  {
   "cell_type": "markdown",
   "metadata": {},
   "source": [
    "#  Data Visualization "
   ]
  },
  {
   "cell_type": "code",
   "execution_count": 28,
   "metadata": {},
   "outputs": [
    {
     "data": {
      "image/png": "[encoded data removed]",
      "text/plain": [
       "<matplotlib.figure.Figure at 0x7f250307ff60>"
      ]
     },
     "metadata": {},
     "output_type": "display_data"
    }
   ],
   "source": [
    "i=8\n",
    "plt.figure()\n",
    "plt.plot(flt_low[data_low.trials[i]: data_low.trials[i+1],0])\n",
    "plt.plot(data_low.raw_data[data_low.trials[i]: data_low.trials[i+1],0])\n",
    "plt.show()"
   ]
  },
  {
   "cell_type": "markdown",
   "metadata": {},
   "source": [
    "# RMS Feature Extraction Function Creation"
   ]
  },
  {
   "cell_type": "code",
   "execution_count": 29,
   "metadata": {
    "collapsed": true
   },
   "outputs": [],
   "source": [
    "def RMS_features_extraction(data, trialList, window_size, window_shift):\n",
    "    if window_shift > window_size:\n",
    "        raise ValueError(\"window_shift > window_size\")\n",
    "\n",
    "    fs = data.sampling_freq\n",
    "    \n",
    "    n_features = int(data.duration/(window_size-window_shift))\n",
    "    \n",
    "    X = np.zeros((len(trialList), n_features*4))\n",
    "    \n",
    "    t = 0\n",
    "    for trial in trialList:\n",
    "        # x3 is the worst of all with 43.3% average performance\n",
    "        x1=gumpy.signal.rms(trial[0], fs, window_size, window_shift)\n",
    "        x2=gumpy.signal.rms(trial[1], fs, window_size, window_shift)\n",
    "        x3=gumpy.signal.rms(trial[2], fs, window_size, window_shift)\n",
    "        x4=gumpy.signal.rms(trial[3], fs, window_size, window_shift)\n",
    "        x=np.concatenate((x1, x2, x3, x4))\n",
    "        X[t, :] = np.array([x])\n",
    "        t += 1\n",
    "    return X"
   ]
  },
  {
   "cell_type": "markdown",
   "metadata": {},
   "source": [
    "# Features Retrieval"
   ]
  },
  {
   "cell_type": "code",
   "execution_count": 30,
   "metadata": {
    "collapsed": true
   },
   "outputs": [],
   "source": [
    "window_size = 0.2\n",
    "window_shift = 0.05\n",
    "\n",
    "highRMSfeatures = RMS_features_extraction(data_high, trialsHigh, window_size, window_shift)\n",
    "highRMSfeaturesBg = RMS_features_extraction(data_high, trialsHighBg, window_size, window_shift)\n",
    "lowRMSfeatures = RMS_features_extraction(data_high, trialsLow, window_size, window_shift)\n",
    "lowRMSfeaturesBg = RMS_features_extraction(data_high, trialsLowBg, window_size, window_shift)\n",
    "\n",
    "\n",
    "\n",
    "# Constructing Classification arrays\n",
    "X_tot = np.vstack((highRMSfeatures, lowRMSfeatures))\n",
    "y_tot = np.hstack((np.ones((highRMSfeatures.shape[0])),\n",
    "                     np.zeros((lowRMSfeatures.shape[0]))))\n",
    "  \n",
    "X_totSig = np.vstack((highRMSfeatures, highRMSfeaturesBg, lowRMSfeatures, lowRMSfeaturesBg))\n",
    "# Normalizing the features\n",
    "X_totSig = X_totSig/np.linalg.norm(X_totSig)\n",
    "\n",
    "y_totSig = np.hstack((data_high.labels, \n",
    "                     data_low.labels))"
   ]
  },
  {
   "cell_type": "markdown",
   "metadata": {},
   "source": [
    "# Classification"
   ]
  },
  {
   "cell_type": "code",
   "execution_count": 35,
   "metadata": {},
   "outputs": [
    {
     "name": "stderr",
     "output_type": "stream",
     "text": [
      "[Parallel(n_jobs=-1)]: Done 132 out of 132 | elapsed:    0.3s finished\n",
      "\n",
      "[2018-02-03 09:55:55] Features: 1/25 -- score: 0.53125[Parallel(n_jobs=-1)]: Done 131 out of 131 | elapsed:    0.3s finished\n",
      "[Parallel(n_jobs=-1)]: Done   1 out of   1 | elapsed:    0.0s finished\n",
      "\n",
      "[2018-02-03 09:55:56] Features: 2/25 -- score: 0.5625[Parallel(n_jobs=-1)]: Done 130 out of 130 | elapsed:    0.2s finished\n",
      "[Parallel(n_jobs=-1)]: Done   2 out of   2 | elapsed:    0.0s finished\n",
      "\n",
      "[2018-02-03 09:55:56] Features: 3/25 -- score: 0.5625[Parallel(n_jobs=-1)]: Done  57 out of 129 | elapsed:    0.2s remaining:    0.2s\n",
      "[Parallel(n_jobs=-1)]: Done 129 out of 129 | elapsed:    0.3s finished\n",
      "[Parallel(n_jobs=-1)]: Done   3 out of   3 | elapsed:    0.0s finished\n",
      "\n",
      "[2018-02-03 09:55:57] Features: 4/25 -- score: 0.5625[Parallel(n_jobs=-1)]: Done 128 out of 128 | elapsed:    0.3s finished\n",
      "[Parallel(n_jobs=-1)]: Done   4 out of   4 | elapsed:    0.0s finished\n",
      "\n",
      "[2018-02-03 09:55:58] Features: 5/25 -- score: 0.552083333333[Parallel(n_jobs=-1)]: Done 127 out of 127 | elapsed:    0.3s finished\n",
      "[Parallel(n_jobs=-1)]: Done   5 out of   5 | elapsed:    0.0s finished\n",
      "\n",
      "[2018-02-03 09:55:58] Features: 6/25 -- score: 0.552083333333[Parallel(n_jobs=-1)]: Done 126 out of 126 | elapsed:    0.3s finished\n",
      "[Parallel(n_jobs=-1)]: Done   3 out of   6 | elapsed:    0.0s remaining:    0.0s\n",
      "[Parallel(n_jobs=-1)]: Done   6 out of   6 | elapsed:    0.0s finished\n",
      "[Parallel(n_jobs=-1)]: Done   5 out of   5 | elapsed:    0.0s finished\n",
      "\n",
      "[2018-02-03 09:55:59] Features: 6/25 -- score: 0.572916666667[Parallel(n_jobs=-1)]: Done 126 out of 126 | elapsed:    0.3s finished\n",
      "[Parallel(n_jobs=-1)]: Done   3 out of   6 | elapsed:    0.0s remaining:    0.0s\n",
      "[Parallel(n_jobs=-1)]: Done   6 out of   6 | elapsed:    0.0s finished\n",
      "\n",
      "[2018-02-03 09:56:00] Features: 7/25 -- score: 0.583333333333[Parallel(n_jobs=-1)]: Done 125 out of 125 | elapsed:    0.2s finished\n",
      "[Parallel(n_jobs=-1)]: Done   4 out of   7 | elapsed:    0.0s remaining:    0.0s\n",
      "[Parallel(n_jobs=-1)]: Done   7 out of   7 | elapsed:    0.0s finished\n",
      "\n",
      "[2018-02-03 09:56:00] Features: 8/25 -- score: 0.614583333333[Parallel(n_jobs=-1)]: Done 124 out of 124 | elapsed:    0.3s finished\n",
      "[Parallel(n_jobs=-1)]: Done   7 out of   9 | elapsed:    0.0s remaining:    0.0s\n",
      "[Parallel(n_jobs=-1)]: Done   9 out of   9 | elapsed:    0.0s finished\n",
      "[Parallel(n_jobs=-1)]: Done   6 out of   8 | elapsed:    0.0s remaining:    0.0s\n",
      "[Parallel(n_jobs=-1)]: Done   8 out of   8 | elapsed:    0.0s finished\n",
      "\n",
      "[2018-02-03 09:56:01] Features: 8/25 -- score: 0.635416666667[Parallel(n_jobs=-1)]: Done 124 out of 124 | elapsed:    0.2s finished\n",
      "[Parallel(n_jobs=-1)]: Done   6 out of   8 | elapsed:    0.0s remaining:    0.0s\n",
      "[Parallel(n_jobs=-1)]: Done   8 out of   8 | elapsed:    0.0s finished\n",
      "\n",
      "[2018-02-03 09:56:01] Features: 9/25 -- score: 0.645833333333[Parallel(n_jobs=-1)]: Done 123 out of 123 | elapsed:    0.3s finished\n",
      "[Parallel(n_jobs=-1)]: Done   7 out of   9 | elapsed:    0.0s remaining:    0.0s\n",
      "[Parallel(n_jobs=-1)]: Done   9 out of   9 | elapsed:    0.1s finished\n",
      "\n",
      "[2018-02-03 09:56:02] Features: 10/25 -- score: 0.645833333333[Parallel(n_jobs=-1)]: Done 122 out of 122 | elapsed:    0.3s finished\n",
      "[Parallel(n_jobs=-1)]: Done   3 out of  10 | elapsed:    0.0s remaining:    0.1s\n",
      "[Parallel(n_jobs=-1)]: Done  10 out of  10 | elapsed:    0.1s finished\n",
      "\n",
      "[2018-02-03 09:56:02] Features: 11/25 -- score: 0.645833333333[Parallel(n_jobs=-1)]: Done 121 out of 121 | elapsed:    0.4s finished\n",
      "[Parallel(n_jobs=-1)]: Done   4 out of  11 | elapsed:    0.0s remaining:    0.0s\n",
      "[Parallel(n_jobs=-1)]: Done  11 out of  11 | elapsed:    0.0s finished\n",
      "\n",
      "[2018-02-03 09:56:03] Features: 12/25 -- score: 0.625[Parallel(n_jobs=-1)]: Done 120 out of 120 | elapsed:    0.3s finished\n",
      "[Parallel(n_jobs=-1)]: Done   5 out of  12 | elapsed:    0.0s remaining:    0.0s\n",
      "[Parallel(n_jobs=-1)]: Done  12 out of  12 | elapsed:    0.1s remaining:    0.0s\n",
      "[Parallel(n_jobs=-1)]: Done  12 out of  12 | elapsed:    0.1s finished\n",
      "\n",
      "[2018-02-03 09:56:04] Features: 13/25 -- score: 0.625[Parallel(n_jobs=-1)]: Done 112 out of 119 | elapsed:    0.3s remaining:    0.0s\n",
      "[Parallel(n_jobs=-1)]: Done 119 out of 119 | elapsed:    0.3s finished\n",
      "[Parallel(n_jobs=-1)]: Done   6 out of  13 | elapsed:    0.0s remaining:    0.0s\n",
      "[Parallel(n_jobs=-1)]: Done  13 out of  13 | elapsed:    0.1s remaining:    0.0s\n",
      "[Parallel(n_jobs=-1)]: Done  13 out of  13 | elapsed:    0.1s finished\n",
      "\n",
      "[2018-02-03 09:56:04] Features: 14/25 -- score: 0.635416666667[Parallel(n_jobs=-1)]: Done 118 out of 118 | elapsed:    0.2s finished\n",
      "[Parallel(n_jobs=-1)]: Done   7 out of  14 | elapsed:    0.0s remaining:    0.0s\n",
      "[Parallel(n_jobs=-1)]: Done  14 out of  14 | elapsed:    0.1s finished\n",
      "\n",
      "[2018-02-03 09:56:05] Features: 15/25 -- score: 0.65625[Parallel(n_jobs=-1)]: Done 117 out of 117 | elapsed:    0.3s finished\n",
      "[Parallel(n_jobs=-1)]: Done   8 out of  15 | elapsed:    0.0s remaining:    0.0s\n",
      "[Parallel(n_jobs=-1)]: Done  15 out of  15 | elapsed:    0.1s finished\n",
      "\n",
      "[2018-02-03 09:56:06] Features: 16/25 -- score: 0.635416666667[Parallel(n_jobs=-1)]: Done 116 out of 116 | elapsed:    0.2s finished\n",
      "[Parallel(n_jobs=-1)]: Done  16 out of  16 | elapsed:    0.1s finished\n",
      "\n",
      "[2018-02-03 09:56:06] Features: 17/25 -- score: 0.635416666667[Parallel(n_jobs=-1)]: Done 115 out of 115 | elapsed:    0.3s finished\n",
      "[Parallel(n_jobs=-1)]: Done  17 out of  17 | elapsed:    0.1s finished\n",
      "\n",
      "[2018-02-03 09:56:07] Features: 18/25 -- score: 0.625[Parallel(n_jobs=-1)]: Done 114 out of 114 | elapsed:    0.3s finished\n",
      "[Parallel(n_jobs=-1)]: Done  18 out of  18 | elapsed:    0.1s finished\n",
      "\n",
      "[2018-02-03 09:56:07] Features: 19/25 -- score: 0.625[Parallel(n_jobs=-1)]: Done 113 out of 113 | elapsed:    0.3s finished\n",
      "[Parallel(n_jobs=-1)]: Done  19 out of  19 | elapsed:    0.1s finished\n",
      "[Parallel(n_jobs=-1)]: Done  18 out of  18 | elapsed:    0.1s finished\n",
      "\n",
      "[2018-02-03 09:56:08] Features: 19/25 -- score: 0.635416666667[Parallel(n_jobs=-1)]: Done 113 out of 113 | elapsed:    0.3s finished\n",
      "[Parallel(n_jobs=-1)]: Done  19 out of  19 | elapsed:    0.1s finished\n",
      "\n",
      "[2018-02-03 09:56:09] Features: 20/25 -- score: 0.625[Parallel(n_jobs=-1)]: Done 112 out of 112 | elapsed:    0.3s finished\n",
      "[Parallel(n_jobs=-1)]: Done  20 out of  20 | elapsed:    0.1s finished\n",
      "\n",
      "[2018-02-03 09:56:09] Features: 21/25 -- score: 0.604166666667[Parallel(n_jobs=-1)]: Done  48 out of 111 | elapsed:    0.2s remaining:    0.2s\n",
      "[Parallel(n_jobs=-1)]: Done 111 out of 111 | elapsed:    0.3s finished\n",
      "[Parallel(n_jobs=-1)]: Done   3 out of  21 | elapsed:    0.0s remaining:    0.2s\n",
      "[Parallel(n_jobs=-1)]: Done  21 out of  21 | elapsed:    0.1s finished\n",
      "\n",
      "[2018-02-03 09:56:10] Features: 22/25 -- score: 0.614583333333[Parallel(n_jobs=-1)]: Done 110 out of 110 | elapsed:    0.3s finished\n",
      "[Parallel(n_jobs=-1)]: Done   3 out of  22 | elapsed:    0.0s remaining:    0.2s\n",
      "[Parallel(n_jobs=-1)]: Done  22 out of  22 | elapsed:    0.1s finished\n",
      "\n",
      "[2018-02-03 09:56:11] Features: 23/25 -- score: 0.625[Parallel(n_jobs=-1)]: Done 109 out of 109 | elapsed:    0.3s finished\n",
      "[Parallel(n_jobs=-1)]: Done   4 out of  23 | elapsed:    0.0s remaining:    0.2s\n",
      "[Parallel(n_jobs=-1)]: Done  23 out of  23 | elapsed:    0.2s finished\n",
      "\n",
      "[2018-02-03 09:56:12] Features: 24/25 -- score: 0.645833333333[Parallel(n_jobs=-1)]: Done 108 out of 108 | elapsed:    0.3s finished\n",
      "[Parallel(n_jobs=-1)]: Done   4 out of  24 | elapsed:    0.0s remaining:    0.2s\n",
      "[Parallel(n_jobs=-1)]: Done  24 out of  24 | elapsed:    0.2s finished\n",
      "\n",
      "[2018-02-03 09:56:12] Features: 25/25 -- score: 0.645833333333"
     ]
    },
    {
     "data": {
      "image/png": "[encoded data removed]",
      "text/plain": [
       "<matplotlib.figure.Figure at 0x7f2546e990b8>"
      ]
     },
     "metadata": {},
     "output_type": "display_data"
    },
    {
     "name": "stderr",
     "output_type": "stream",
     "text": [
      "[Parallel(n_jobs=-1)]: Done 132 out of 132 | elapsed:    0.4s finished\n",
      "\n",
      "[2018-02-03 09:56:13] Features: 1/25 -- score: 0.986111111111[Parallel(n_jobs=-1)]: Done 131 out of 131 | elapsed:    0.4s finished\n",
      "[Parallel(n_jobs=-1)]: Done   1 out of   1 | elapsed:    0.0s finished\n",
      "\n",
      "[2018-02-03 09:56:14] Features: 2/25 -- score: 0.986111111111[Parallel(n_jobs=-1)]: Done 130 out of 130 | elapsed:    0.4s finished\n",
      "[Parallel(n_jobs=-1)]: Done   2 out of   2 | elapsed:    0.0s finished\n",
      "\n",
      "[2018-02-03 09:56:15] Features: 3/25 -- score: 1.0[Parallel(n_jobs=-1)]: Done 129 out of 129 | elapsed:    0.5s finished\n",
      "[Parallel(n_jobs=-1)]: Done   3 out of   3 | elapsed:    0.0s finished\n",
      "\n",
      "[2018-02-03 09:56:16] Features: 4/25 -- score: 1.0[Parallel(n_jobs=-1)]: Done  56 out of 128 | elapsed:    0.2s remaining:    0.3s\n",
      "[Parallel(n_jobs=-1)]: Done 128 out of 128 | elapsed:    0.5s finished\n",
      "[Parallel(n_jobs=-1)]: Done   4 out of   4 | elapsed:    0.0s finished\n",
      "\n",
      "[2018-02-03 09:56:16] Features: 5/25 -- score: 1.0[Parallel(n_jobs=-1)]: Done  56 out of 127 | elapsed:    0.2s remaining:    0.3s\n",
      "[Parallel(n_jobs=-1)]: Done 127 out of 127 | elapsed:    0.4s finished\n",
      "[Parallel(n_jobs=-1)]: Done   5 out of   5 | elapsed:    0.0s finished\n",
      "\n",
      "[2018-02-03 09:56:17] Features: 6/25 -- score: 1.0[Parallel(n_jobs=-1)]: Done 126 out of 126 | elapsed:    0.5s finished\n",
      "[Parallel(n_jobs=-1)]: Done   3 out of   6 | elapsed:    0.0s remaining:    0.0s\n",
      "[Parallel(n_jobs=-1)]: Done   6 out of   6 | elapsed:    0.0s finished\n",
      "\n",
      "[2018-02-03 09:56:18] Features: 7/25 -- score: 1.0[Parallel(n_jobs=-1)]: Done 125 out of 125 | elapsed:    0.4s finished\n",
      "[Parallel(n_jobs=-1)]: Done   4 out of   7 | elapsed:    0.0s remaining:    0.0s\n",
      "[Parallel(n_jobs=-1)]: Done   7 out of   7 | elapsed:    0.0s finished\n",
      "\n",
      "[2018-02-03 09:56:19] Features: 8/25 -- score: 1.0[Parallel(n_jobs=-1)]: Done 124 out of 124 | elapsed:    0.4s finished\n",
      "[Parallel(n_jobs=-1)]: Done   6 out of   8 | elapsed:    0.0s remaining:    0.0s\n",
      "[Parallel(n_jobs=-1)]: Done   8 out of   8 | elapsed:    0.0s finished\n",
      "\n",
      "[2018-02-03 09:56:19] Features: 9/25 -- score: 1.0[Parallel(n_jobs=-1)]: Done 123 out of 123 | elapsed:    0.4s finished\n",
      "[Parallel(n_jobs=-1)]: Done   7 out of   9 | elapsed:    0.0s remaining:    0.0s\n",
      "[Parallel(n_jobs=-1)]: Done   9 out of   9 | elapsed:    0.0s finished\n",
      "\n",
      "[2018-02-03 09:56:20] Features: 10/25 -- score: 1.0[Parallel(n_jobs=-1)]: Done 122 out of 122 | elapsed:    0.4s finished\n",
      "[Parallel(n_jobs=-1)]: Done   3 out of  10 | elapsed:    0.0s remaining:    0.1s\n",
      "[Parallel(n_jobs=-1)]: Done  10 out of  10 | elapsed:    0.1s finished\n",
      "\n",
      "[2018-02-03 09:56:21] Features: 11/25 -- score: 1.0[Parallel(n_jobs=-1)]: Done 121 out of 121 | elapsed:    0.5s finished\n",
      "[Parallel(n_jobs=-1)]: Done   4 out of  11 | elapsed:    0.0s remaining:    0.1s\n",
      "[Parallel(n_jobs=-1)]: Done  11 out of  11 | elapsed:    0.1s finished\n",
      "\n",
      "[2018-02-03 09:56:21] Features: 12/25 -- score: 1.0[Parallel(n_jobs=-1)]: Done 120 out of 120 | elapsed:    0.4s finished\n",
      "[Parallel(n_jobs=-1)]: Done   5 out of  12 | elapsed:    0.0s remaining:    0.1s\n",
      "[Parallel(n_jobs=-1)]: Done  12 out of  12 | elapsed:    0.1s remaining:    0.0s\n",
      "[Parallel(n_jobs=-1)]: Done  12 out of  12 | elapsed:    0.1s finished\n",
      "\n",
      "[2018-02-03 09:56:22] Features: 13/25 -- score: 1.0[Parallel(n_jobs=-1)]: Done 119 out of 119 | elapsed:    0.4s finished\n",
      "[Parallel(n_jobs=-1)]: Done   6 out of  13 | elapsed:    0.0s remaining:    0.0s\n",
      "[Parallel(n_jobs=-1)]: Done  13 out of  13 | elapsed:    0.1s remaining:    0.0s\n",
      "[Parallel(n_jobs=-1)]: Done  13 out of  13 | elapsed:    0.1s finished\n",
      "\n",
      "[2018-02-03 09:56:23] Features: 14/25 -- score: 1.0[Parallel(n_jobs=-1)]: Done 118 out of 118 | elapsed:    0.4s finished\n",
      "[Parallel(n_jobs=-1)]: Done   7 out of  14 | elapsed:    0.0s remaining:    0.0s\n",
      "[Parallel(n_jobs=-1)]: Done  14 out of  14 | elapsed:    0.1s finished\n",
      "\n",
      "[2018-02-03 09:56:24] Features: 15/25 -- score: 1.0[Parallel(n_jobs=-1)]: Done 117 out of 117 | elapsed:    0.4s finished\n",
      "[Parallel(n_jobs=-1)]: Done   8 out of  15 | elapsed:    0.0s remaining:    0.0s\n",
      "[Parallel(n_jobs=-1)]: Done  15 out of  15 | elapsed:    0.1s finished\n",
      "\n",
      "[2018-02-03 09:56:24] Features: 16/25 -- score: 1.0[Parallel(n_jobs=-1)]: Done 116 out of 116 | elapsed:    0.4s finished\n",
      "[Parallel(n_jobs=-1)]: Done  16 out of  16 | elapsed:    0.1s finished\n",
      "\n",
      "[2018-02-03 09:56:25] Features: 17/25 -- score: 1.0[Parallel(n_jobs=-1)]: Done  50 out of 115 | elapsed:    0.2s remaining:    0.3s\n",
      "[Parallel(n_jobs=-1)]: Done 115 out of 115 | elapsed:    0.4s finished\n",
      "[Parallel(n_jobs=-1)]: Done  17 out of  17 | elapsed:    0.1s finished\n",
      "\n",
      "[2018-02-03 09:56:26] Features: 18/25 -- score: 1.0[Parallel(n_jobs=-1)]: Done 114 out of 114 | elapsed:    0.4s finished\n",
      "[Parallel(n_jobs=-1)]: Done  18 out of  18 | elapsed:    0.1s finished\n",
      "\n",
      "[2018-02-03 09:56:26] Features: 19/25 -- score: 1.0[Parallel(n_jobs=-1)]: Done 113 out of 113 | elapsed:    0.4s finished\n",
      "[Parallel(n_jobs=-1)]: Done  19 out of  19 | elapsed:    0.1s finished\n",
      "\n",
      "[2018-02-03 09:56:27] Features: 20/25 -- score: 1.0[Parallel(n_jobs=-1)]: Done 112 out of 112 | elapsed:    0.3s finished\n",
      "[Parallel(n_jobs=-1)]: Done  20 out of  20 | elapsed:    0.1s finished\n",
      "\n",
      "[2018-02-03 09:56:28] Features: 21/25 -- score: 1.0[Parallel(n_jobs=-1)]: Done 111 out of 111 | elapsed:    0.4s finished\n",
      "[Parallel(n_jobs=-1)]: Done   3 out of  21 | elapsed:    0.0s remaining:    0.1s\n",
      "[Parallel(n_jobs=-1)]: Done  21 out of  21 | elapsed:    0.1s finished\n",
      "\n",
      "[2018-02-03 09:56:29] Features: 22/25 -- score: 1.0[Parallel(n_jobs=-1)]: Done 110 out of 110 | elapsed:    0.4s finished\n",
      "[Parallel(n_jobs=-1)]: Done   3 out of  22 | elapsed:    0.0s remaining:    0.2s\n",
      "[Parallel(n_jobs=-1)]: Done  22 out of  22 | elapsed:    0.1s finished\n",
      "\n",
      "[2018-02-03 09:56:30] Features: 23/25 -- score: 1.0[Parallel(n_jobs=-1)]: Done 109 out of 109 | elapsed:    0.3s finished\n",
      "[Parallel(n_jobs=-1)]: Done   4 out of  23 | elapsed:    0.0s remaining:    0.2s\n",
      "[Parallel(n_jobs=-1)]: Done  23 out of  23 | elapsed:    0.2s finished\n",
      "\n",
      "[2018-02-03 09:56:30] Features: 24/25 -- score: 1.0[Parallel(n_jobs=-1)]: Done 108 out of 108 | elapsed:    0.3s finished\n",
      "[Parallel(n_jobs=-1)]: Done   4 out of  24 | elapsed:    0.0s remaining:    0.2s\n",
      "[Parallel(n_jobs=-1)]: Done  24 out of  24 | elapsed:    0.2s finished\n",
      "\n",
      "[2018-02-03 09:56:31] Features: 25/25 -- score: 1.0"
     ]
    },
    {
     "data": {
      "image/png": "[encoded data removed]",
      "text/plain": [
       "<matplotlib.figure.Figure at 0x7f25058bd470>"
      ]
     },
     "metadata": {},
     "output_type": "display_data"
    }
   ],
   "source": [
    "if __name__ == '__main__':\n",
    "    # Posture Classification\n",
    "    out_Classification = gumpy.features.sequential_feature_selector(X_totSig, y_totSig, 'SVM', (10,25), 3, 'SFFS')\n",
    "\n",
    "    # Force Level Classification\n",
    "    out_Force = gumpy.features.sequential_feature_selector(X_tot, y_tot, 'SVM', (10,25), 3, 'SFFS')"
   ]
  },
  {
   "cell_type": "code",
   "execution_count": null,
   "metadata": {
    "collapsed": true
   },
   "outputs": [],
   "source": []
  }
 ],
 "metadata": {
  "kernelspec": {
   "display_name": "Python 3",
   "language": "python3.5",
   "name": "python3"
  },
  "language_info": {
   "codemirror_mode": {
    "name": "ipython",
    "version": 3
   },
   "file_extension": ".py",
   "mimetype": "text/x-python",
   "name": "python",
   "nbconvert_exporter": "python",
   "pygments_lexer": "ipython3",
   "version": "3.5.4"
  }
 },
 "nbformat": 4,
 "nbformat_minor": 2
}
